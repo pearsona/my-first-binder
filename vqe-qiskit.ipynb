{
 "cells": [
  {
   "cell_type": "code",
   "execution_count": 23,
   "id": "96c500e7",
   "metadata": {},
   "outputs": [],
   "source": [
    "from scipy.optimize import minimize\n",
    "import json\n",
    "import numpy as np\n",
    "from random import random\n",
    "import matplotlib.pyplot as plt\n",
    "import pandas as pd\n",
    "\n",
    "import warnings\n",
    "warnings.filterwarnings('ignore')\n",
    "from qiskit import QuantumCircuit, ClassicalRegister, QuantumRegister\n",
    "\n",
    "from qiskit import transpile\n",
    "from qiskit.visualization import plot_histogram\n",
    "from qiskit_aer import AerSimulator\n"
   ]
  },
  {
   "cell_type": "code",
   "execution_count": 2,
   "id": "6c1ba1c9",
   "metadata": {},
   "outputs": [],
   "source": [
    "def printFullSpectrum(numQubits, Hamiltonian):\n",
    "    for n in range(2**numQubits):\n",
    "        num = [int(b) for b in list(bin(n)[2:])]\n",
    "        state = [0]*(numQubits - len(num)) + num\n",
    "        print(state, Hamiltonian(state))"
   ]
  },
  {
   "cell_type": "code",
   "execution_count": 4,
   "id": "15d6d6cd",
   "metadata": {},
   "outputs": [],
   "source": [
    "def Hamiltonian(state): \n",
    "    return state[0] + state[1] - state[0]*state[1]"
   ]
  },
  {
   "cell_type": "code",
   "execution_count": 5,
   "id": "9e808413",
   "metadata": {},
   "outputs": [
    {
     "name": "stdout",
     "output_type": "stream",
     "text": [
      "[0, 0] 0\n",
      "[0, 1] 1\n",
      "[1, 0] 1\n",
      "[1, 1] 1\n"
     ]
    }
   ],
   "source": [
    "printFullSpectrum(2, Hamiltonian)"
   ]
  },
  {
   "cell_type": "code",
   "execution_count": 128,
   "id": "7067ab2e",
   "metadata": {},
   "outputs": [],
   "source": [
    "def MeasureTrialState(parameters, numQubits):\n",
    "    qc = QuantumCircuit(numQubits, numQubits)\n",
    "    norm = 0\n",
    "    for i in range(2**numQubits):\n",
    "        norm += np.abs(parameters[i]) ** 2\n",
    "\n",
    "    normalized_parameters = []\n",
    "    #check if this is correct: make sure that the arbitrary state to be prepared is normalized\n",
    "    for i in range(2**numQubits):\n",
    "        normalized_parameters.append(parameters[i]/np.sqrt(norm))\n",
    "\n",
    "#     print(normalized_parameters)\n",
    "    qc.initialize(normalized_parameters)\n",
    "    qc.measure_all()\n",
    "    return qc"
   ]
  },
  {
   "cell_type": "code",
   "execution_count": 129,
   "id": "0537bdcf",
   "metadata": {},
   "outputs": [],
   "source": [
    "qc = MeasureTrialState([1,1], 1)"
   ]
  },
  {
   "cell_type": "code",
   "execution_count": 130,
   "id": "45a045d3",
   "metadata": {},
   "outputs": [],
   "source": [
    "def localSimulator(operation, parameters, numQubits, shots, trim = False):\n",
    "    results = {}\n",
    "    simulator = AerSimulator()\n",
    "    qc = operation(parameters = parameters, numQubits = numQubits)\n",
    "    circuit_simulator = simulator.run(transpile(qc,simulator), shots=shots)\n",
    "    results = circuit_simulator.result().get_counts()\n",
    "    \n",
    "    if trim == True:\n",
    "\n",
    "        for state in list(results.keys()):\n",
    "            if results[state] < 1e-2: del(results[state])\n",
    "\n",
    "    return results\n",
    "    "
   ]
  },
  {
   "cell_type": "code",
   "execution_count": 132,
   "id": "e19039f7",
   "metadata": {},
   "outputs": [],
   "source": [
    "def averageEnergy(parameters, numQubits, Hamiltonian, shots = 20):\n",
    "\n",
    "    # Prepare and measure the state many times\n",
    "    results = localSimulator(MeasureTrialState, parameters, numQubits, shots)\n",
    "\n",
    "    # Calculate and return the average energy of this set of measurements\n",
    "    averageEnergy = 0\n",
    "\n",
    "    for bits in results.keys():\n",
    "        x = bits.split(' ')\n",
    "        item = list(x[0].strip(\" \"))\n",
    "        state = [int(i) for i in item]\n",
    "        averageEnergy += Hamiltonian(state) * results[bits]\n",
    "    \n",
    "    return averageEnergy"
   ]
  },
  {
   "cell_type": "code",
   "execution_count": 133,
   "id": "381f0cb0",
   "metadata": {},
   "outputs": [],
   "source": [
    "def VQE(numQubits, Hamiltonian): \n",
    "    \n",
    "    parameters = [1 / 2**numQubits] * (2**numQubits)\n",
    "    \n",
    "    return minimize(averageEnergy, parameters, args = (numQubits, Hamiltonian), method = \"SLSQP\")"
   ]
  },
  {
   "cell_type": "code",
   "execution_count": 134,
   "id": "0870df08",
   "metadata": {},
   "outputs": [],
   "source": [
    "result = VQE(2, Hamiltonian)"
   ]
  },
  {
   "cell_type": "code",
   "execution_count": 136,
   "id": "5ff827fe",
   "metadata": {},
   "outputs": [
    {
     "name": "stdout",
     "output_type": "stream",
     "text": [
      " message: Optimization terminated successfully\n",
      " success: True\n",
      "  status: 0\n",
      "     fun: 20\n",
      "       x: [-3.315e+05 -4.099e+07  5.979e+07 -2.849e+07]\n",
      "     nit: 7\n",
      "     jac: [ 0.000e+00  0.000e+00  0.000e+00  0.000e+00]\n",
      "    nfev: 95\n",
      "    njev: 7\n"
     ]
    },
    {
     "data": {
      "image/png": "[encoded data removed]",
      "text/plain": [
       "<Figure size 640x480 with 1 Axes>"
      ]
     },
     "metadata": {},
     "output_type": "display_data"
    }
   ],
   "source": [
    "print(result)\n",
    "results = localSimulator(MeasureTrialState, result.x, 2, 1000)\n",
    "\n",
    "plt.bar(results.keys(), results.values())\n",
    "\n",
    "plt.title(\"Result\")\n",
    "plt.xlabel(\"Measurement\")\n",
    "plt.ylabel(\"Probability\")\n",
    "\n",
    "plt.xticks(rotation = 90)\n",
    "\n",
    "plt.show()"
   ]
  }
 ],
 "metadata": {
  "kernelspec": {
   "display_name": "Python 3 (ipykernel)",
   "language": "python",
   "name": "python3"
  },
  "language_info": {
   "codemirror_mode": {
    "name": "ipython",
    "version": 3
   },
   "file_extension": ".py",
   "mimetype": "text/x-python",
   "name": "python",
   "nbconvert_exporter": "python",
   "pygments_lexer": "ipython3",
   "version": "3.10.8"
  }
 },
 "nbformat": 4,
 "nbformat_minor": 5
}
